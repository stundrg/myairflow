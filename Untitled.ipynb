{
 "cells": [
  {
   "cell_type": "code",
   "execution_count": null,
   "id": "b94f6fb3-f386-4610-8c35-36d37fda7727",
   "metadata": {},
   "outputs": [],
   "source": [
    "import pandas as pd\n",
    "\n",
    "# GCS 경로\n",
    "gcs_path = \"gs://stundrg-bucket/data/wiki/parquet/dt=20240131/hour=23\"\n",
    "\n",
    "# Parquet 읽기 (pyarrow + gcsfs 사용)\n",
    "df = pd.read_parquet(gcs_path, engine=\"pyarrow\")\n",
    "\n",
    "# 일부 출력\n",
    "print(df.head(30))"
   ]
  },
  {
   "cell_type": "code",
   "execution_count": 1,
   "id": "d72114ef-ef5e-4e2d-b2df-ce2f4e397c6e",
   "metadata": {},
   "outputs": [
    {
     "data": {
      "text/plain": [
       "['_SUCCESS',\n",
       " '._SUCCESS.crc',\n",
       " 'part-00000-f309abb5-f0f5-454d-b604-ce5b92a7e3f6-c000.snappy.parquet',\n",
       " '.part-00000-f309abb5-f0f5-454d-b604-ce5b92a7e3f6-c000.snappy.parquet.crc']"
      ]
     },
     "execution_count": 1,
     "metadata": {},
     "output_type": "execute_result"
    }
   ],
   "source": []
  },
  {
   "cell_type": "code",
   "execution_count": 2,
   "id": "acdc71ce-c1c1-46fa-a824-d697d13a51dd",
   "metadata": {},
   "outputs": [
    {
     "ename": "NameError",
     "evalue": "name 'updated_meta' is not defined",
     "output_type": "error",
     "traceback": [
      "\u001b[31m---------------------------------------------------------------------------\u001b[39m",
      "\u001b[31mNameError\u001b[39m                                 Traceback (most recent call last)",
      "\u001b[36mCell\u001b[39m\u001b[36m \u001b[39m\u001b[32mIn[2]\u001b[39m\u001b[32m, line 1\u001b[39m\n\u001b[32m----> \u001b[39m\u001b[32m1\u001b[39m \u001b[38;5;28mprint\u001b[39m(\u001b[43mupdated_meta\u001b[49m.count())\n",
      "\u001b[31mNameError\u001b[39m: name 'updated_meta' is not defined"
     ]
    }
   ],
   "source": []
  },
  {
   "cell_type": "code",
   "execution_count": null,
   "id": "15bdff29-4df8-453a-8e06-59f7c21dea1c",
   "metadata": {},
   "outputs": [],
   "source": []
  }
 ],
 "metadata": {
  "kernelspec": {
   "display_name": "Python 3 (ipykernel)",
   "language": "python",
   "name": "python3"
  },
  "language_info": {
   "codemirror_mode": {
    "name": "ipython",
    "version": 3
   },
   "file_extension": ".py",
   "mimetype": "text/x-python",
   "name": "python",
   "nbconvert_exporter": "python",
   "pygments_lexer": "ipython3",
   "version": "3.12.3"
  }
 },
 "nbformat": 4,
 "nbformat_minor": 5
}
