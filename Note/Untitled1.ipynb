{
 "cells": [
  {
   "cell_type": "code",
   "execution_count": null,
   "id": "88e897e9-ac92-4a72-912c-8509036731df",
   "metadata": {},
   "outputs": [],
   "source": [
    "#tree -L 1\n",
    "#.\n",
    "#├── dt=20240101\n",
    "#├── dt=20240102\n",
    "#├── dt=20240103\n",
    "#├── dt=20240104\n",
    "#└── dt=20240105\n",
    "\n",
    "BASE_PATH = '/home/wsl/data/movies/dailyboxoffice'\n",
    "\n",
    "import pandas as pd\n",
    "\n",
    "df = pd.read_parquet(BASE_PATH)"
   ]
  },
  {
   "cell_type": "code",
   "execution_count": 2,
   "id": "a2fb56db-25f9-42fa-84d8-ff8fa80d7177",
   "metadata": {},
   "outputs": [
    {
     "data": {
      "text/plain": [
       "Index(['rnum', 'rank', 'rankInten', 'rankOldAndNew', 'movieCd', 'movieNm',\n",
       "       'openDt', 'salesAmt', 'salesShare', 'salesInten', 'salesChange',\n",
       "       'salesAcc', 'audiCnt', 'audiInten', 'audiChange', 'audiAcc', 'scrnCnt',\n",
       "       'showCnt', 'dt', 'multiMovieYn', 'repNationCd'],\n",
       "      dtype='object')"
      ]
     },
     "execution_count": 2,
     "metadata": {},
     "output_type": "execute_result"
    }
   ],
   "source": [
    "df.columns"
   ]
  },
  {
   "cell_type": "code",
   "execution_count": 5,
   "id": "413bb3da-6b11-49f1-a424-7a732e850e3d",
   "metadata": {},
   "outputs": [],
   "source": [
    "df.to_parquet(\"~/temp/test/t_p_2\", partition_cols = ['openDt','repNationCd','salesChange'])"
   ]
  },
  {
   "cell_type": "code",
   "execution_count": null,
   "id": "efd339ee-b322-4ba2-bb4e-d423d8866d3c",
   "metadata": {},
   "outputs": [],
   "source": []
  }
 ],
 "metadata": {
  "kernelspec": {
   "display_name": "Python 3 (ipykernel)",
   "language": "python",
   "name": "python3"
  },
  "language_info": {
   "codemirror_mode": {
    "name": "ipython",
    "version": 3
   },
   "file_extension": ".py",
   "mimetype": "text/x-python",
   "name": "python",
   "nbconvert_exporter": "python",
   "pygments_lexer": "ipython3",
   "version": "3.12.3"
  }
 },
 "nbformat": 4,
 "nbformat_minor": 5
}
