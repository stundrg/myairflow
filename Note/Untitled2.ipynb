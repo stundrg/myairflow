{
 "cells": [
  {
   "cell_type": "code",
   "execution_count": 2,
   "id": "edc66f19-5e61-4609-b6e0-621381d43eb2",
   "metadata": {},
   "outputs": [],
   "source": [
    "import pandas as pd\n",
    "import os"
   ]
  },
  {
   "cell_type": "markdown",
   "id": "26d118b9-7491-4b63-93f9-3f561ca4a424",
   "metadata": {},
   "source": [
    "```\n",
    "├── movie_after\n",
    "│   ├── dailyboxoffice\n",
    "│   └── meta\n",
    "├── movies\n",
    "│   ├── dailyboxoffice\n",
    "│   ├── done\n",
    "│   └── merge\n",
    "```"
   ]
  },
  {
   "cell_type": "code",
   "execution_count": 25,
   "id": "bd9a46b9-19c5-436a-b037-0f1015eb476f",
   "metadata": {},
   "outputs": [],
   "source": [
    "meta_df = pd.read_parquet('/home/wsl/data/movie_after/meta/meta.parquet')"
   ]
  },
  {
   "cell_type": "code",
   "execution_count": 26,
   "id": "ac79510c-4515-44d3-a28d-64ce47050971",
   "metadata": {},
   "outputs": [
    {
     "data": {
      "text/html": [
       "<div>\n",
       "<style scoped>\n",
       "    .dataframe tbody tr th:only-of-type {\n",
       "        vertical-align: middle;\n",
       "    }\n",
       "\n",
       "    .dataframe tbody tr th {\n",
       "        vertical-align: top;\n",
       "    }\n",
       "\n",
       "    .dataframe thead th {\n",
       "        text-align: right;\n",
       "    }\n",
       "</style>\n",
       "<table border=\"1\" class=\"dataframe\">\n",
       "  <thead>\n",
       "    <tr style=\"text-align: right;\">\n",
       "      <th></th>\n",
       "      <th>rnum</th>\n",
       "      <th>rank</th>\n",
       "      <th>rankInten</th>\n",
       "      <th>rankOldAndNew</th>\n",
       "      <th>movieCd</th>\n",
       "      <th>movieNm</th>\n",
       "      <th>openDt</th>\n",
       "      <th>salesAmt</th>\n",
       "      <th>salesShare</th>\n",
       "      <th>salesInten</th>\n",
       "      <th>...</th>\n",
       "      <th>salesAcc</th>\n",
       "      <th>audiCnt</th>\n",
       "      <th>audiInten</th>\n",
       "      <th>audiChange</th>\n",
       "      <th>audiAcc</th>\n",
       "      <th>scrnCnt</th>\n",
       "      <th>showCnt</th>\n",
       "      <th>multiMovieYn</th>\n",
       "      <th>repNationCd</th>\n",
       "      <th>dt</th>\n",
       "    </tr>\n",
       "  </thead>\n",
       "  <tbody>\n",
       "    <tr>\n",
       "      <th>0</th>\n",
       "      <td>1</td>\n",
       "      <td>1</td>\n",
       "      <td>0</td>\n",
       "      <td>OLD</td>\n",
       "      <td>20234675</td>\n",
       "      <td>파묘</td>\n",
       "      <td>2024-02-22</td>\n",
       "      <td>994488376</td>\n",
       "      <td>59.1</td>\n",
       "      <td>-77800244</td>\n",
       "      <td>...</td>\n",
       "      <td>82017150331</td>\n",
       "      <td>105065</td>\n",
       "      <td>-8341</td>\n",
       "      <td>-7.4</td>\n",
       "      <td>8517603</td>\n",
       "      <td>1754</td>\n",
       "      <td>6456</td>\n",
       "      <td>NaN</td>\n",
       "      <td>NaN</td>\n",
       "      <td>20240314</td>\n",
       "    </tr>\n",
       "    <tr>\n",
       "      <th>1</th>\n",
       "      <td>2</td>\n",
       "      <td>2</td>\n",
       "      <td>0</td>\n",
       "      <td>OLD</td>\n",
       "      <td>20236295</td>\n",
       "      <td>듄: 파트2</td>\n",
       "      <td>2024-02-28</td>\n",
       "      <td>309814157</td>\n",
       "      <td>18.4</td>\n",
       "      <td>-23204995</td>\n",
       "      <td>...</td>\n",
       "      <td>15880074942</td>\n",
       "      <td>24491</td>\n",
       "      <td>-2936</td>\n",
       "      <td>-10.7</td>\n",
       "      <td>1393255</td>\n",
       "      <td>828</td>\n",
       "      <td>1884</td>\n",
       "      <td>NaN</td>\n",
       "      <td>NaN</td>\n",
       "      <td>20240314</td>\n",
       "    </tr>\n",
       "    <tr>\n",
       "      <th>2</th>\n",
       "      <td>3</td>\n",
       "      <td>3</td>\n",
       "      <td>0</td>\n",
       "      <td>OLD</td>\n",
       "      <td>20236488</td>\n",
       "      <td>밥 말리: 원 러브</td>\n",
       "      <td>2024-03-13</td>\n",
       "      <td>40116956</td>\n",
       "      <td>2.4</td>\n",
       "      <td>-42432996</td>\n",
       "      <td>...</td>\n",
       "      <td>133735908</td>\n",
       "      <td>4553</td>\n",
       "      <td>-4943</td>\n",
       "      <td>-52.1</td>\n",
       "      <td>15042</td>\n",
       "      <td>507</td>\n",
       "      <td>1004</td>\n",
       "      <td>NaN</td>\n",
       "      <td>NaN</td>\n",
       "      <td>20240314</td>\n",
       "    </tr>\n",
       "  </tbody>\n",
       "</table>\n",
       "<p>3 rows × 21 columns</p>\n",
       "</div>"
      ],
      "text/plain": [
       "   rnum  rank  rankInten rankOldAndNew   movieCd     movieNm      openDt  \\\n",
       "0     1     1          0           OLD  20234675          파묘  2024-02-22   \n",
       "1     2     2          0           OLD  20236295      듄: 파트2  2024-02-28   \n",
       "2     3     3          0           OLD  20236488  밥 말리: 원 러브  2024-03-13   \n",
       "\n",
       "    salesAmt  salesShare  salesInten  ...     salesAcc audiCnt  audiInten  \\\n",
       "0  994488376        59.1   -77800244  ...  82017150331  105065      -8341   \n",
       "1  309814157        18.4   -23204995  ...  15880074942   24491      -2936   \n",
       "2   40116956         2.4   -42432996  ...    133735908    4553      -4943   \n",
       "\n",
       "   audiChange  audiAcc  scrnCnt  showCnt  multiMovieYn repNationCd        dt  \n",
       "0        -7.4  8517603     1754     6456           NaN         NaN  20240314  \n",
       "1       -10.7  1393255      828     1884           NaN         NaN  20240314  \n",
       "2       -52.1    15042      507     1004           NaN         NaN  20240314  \n",
       "\n",
       "[3 rows x 21 columns]"
      ]
     },
     "execution_count": 26,
     "metadata": {},
     "output_type": "execute_result"
    }
   ],
   "source": [
    "meta_df.head(3)"
   ]
  },
  {
   "cell_type": "code",
   "execution_count": 27,
   "id": "5f1c2daa-5469-4109-bf0b-1124be0e4123",
   "metadata": {},
   "outputs": [
    {
     "data": {
      "text/html": [
       "<div>\n",
       "<style scoped>\n",
       "    .dataframe tbody tr th:only-of-type {\n",
       "        vertical-align: middle;\n",
       "    }\n",
       "\n",
       "    .dataframe tbody tr th {\n",
       "        vertical-align: top;\n",
       "    }\n",
       "\n",
       "    .dataframe thead th {\n",
       "        text-align: right;\n",
       "    }\n",
       "</style>\n",
       "<table border=\"1\" class=\"dataframe\">\n",
       "  <thead>\n",
       "    <tr style=\"text-align: right;\">\n",
       "      <th></th>\n",
       "      <th>movieCd</th>\n",
       "      <th>multiMovieYn</th>\n",
       "      <th>repNationCd</th>\n",
       "    </tr>\n",
       "  </thead>\n",
       "  <tbody>\n",
       "    <tr>\n",
       "      <th>0</th>\n",
       "      <td>20234675</td>\n",
       "      <td>NaN</td>\n",
       "      <td>NaN</td>\n",
       "    </tr>\n",
       "    <tr>\n",
       "      <th>1</th>\n",
       "      <td>20236295</td>\n",
       "      <td>NaN</td>\n",
       "      <td>NaN</td>\n",
       "    </tr>\n",
       "    <tr>\n",
       "      <th>2</th>\n",
       "      <td>20236488</td>\n",
       "      <td>NaN</td>\n",
       "      <td>NaN</td>\n",
       "    </tr>\n",
       "  </tbody>\n",
       "</table>\n",
       "</div>"
      ],
      "text/plain": [
       "    movieCd multiMovieYn repNationCd\n",
       "0  20234675          NaN         NaN\n",
       "1  20236295          NaN         NaN\n",
       "2  20236488          NaN         NaN"
      ]
     },
     "execution_count": 27,
     "metadata": {},
     "output_type": "execute_result"
    }
   ],
   "source": [
    "pd.read_parquet('/home/wsl/data/movie_after/meta/meta.parquet')[['movieCd', 'multiMovieYn', 'repNationCd']].head(3)"
   ]
  },
  {
   "cell_type": "code",
   "execution_count": 28,
   "id": "c535f630-ad9f-43d0-95cd-26828431b86f",
   "metadata": {},
   "outputs": [
    {
     "data": {
      "text/plain": [
       "25"
      ]
     },
     "execution_count": 28,
     "metadata": {},
     "output_type": "execute_result"
    }
   ],
   "source": [
    "movie_df = pd.read_parquet(\"~/data/movies/merge/dailyboxoffice/dt=20240101\")\n",
    "len(movie_df)"
   ]
  },
  {
   "cell_type": "code",
   "execution_count": 29,
   "id": "ea6ef018-1ead-4cc4-bcd4-78f8bee0eed6",
   "metadata": {},
   "outputs": [
    {
     "ename": "SyntaxError",
     "evalue": "invalid syntax (1783858452.py, line 1)",
     "output_type": "error",
     "traceback": [
      "  \u001b[36mCell\u001b[39m\u001b[36m \u001b[39m\u001b[32mIn[29]\u001b[39m\u001b[32m, line 1\u001b[39m\n\u001b[31m    \u001b[39m\u001b[31mmeta JOIN movie_df = movie_after_df(25) -> multiMovieYn, repNationCd 기존 보다 조금 더 fill 될것으로 예상\u001b[39m\n         ^\n\u001b[31mSyntaxError\u001b[39m\u001b[31m:\u001b[39m invalid syntax\n"
     ]
    }
   ],
   "source": [
    "meta JOIN movie_df = movie_after_df(25) -> multiMovieYn, repNationCd 기존 보다 조금 더 fill 될것으로 예상"
   ]
  },
  {
   "cell_type": "code",
   "execution_count": 30,
   "id": "9ee6598e-687b-438c-8a47-f63ba4ac35d4",
   "metadata": {},
   "outputs": [
    {
     "data": {
      "text/plain": [
       "50"
      ]
     },
     "execution_count": 30,
     "metadata": {},
     "output_type": "execute_result"
    }
   ],
   "source": [
    "len(meta_df)"
   ]
  },
  {
   "cell_type": "code",
   "execution_count": 31,
   "id": "442c5b0b-76b4-4bac-9e8e-028bc2b6c45c",
   "metadata": {},
   "outputs": [
    {
     "name": "stdout",
     "output_type": "stream",
     "text": [
      "Index(['rnum', 'rank', 'rankInten', 'rankOldAndNew', 'movieCd', 'movieNm',\n",
      "       'openDt', 'salesAmt', 'salesShare', 'salesInten', 'salesChange',\n",
      "       'salesAcc', 'audiCnt', 'audiInten', 'audiChange', 'audiAcc', 'scrnCnt',\n",
      "       'showCnt', 'multiMovieYn', 'repNationCd', 'dt'],\n",
      "      dtype='object')\n"
     ]
    }
   ],
   "source": [
    "import pandas as pd\n",
    "import os\n",
    "\n",
    "meta_path = os.path.expanduser(\"~/data/movie_after/meta/meta.parquet\")\n",
    "df = pd.read_parquet(meta_path)\n",
    "\n",
    "# 날짜 정보 존재 여부\n",
    "print(df.columns)"
   ]
  },
  {
   "cell_type": "code",
   "execution_count": 34,
   "id": "d0e1fa1e-562f-4c38-8284-7b36c84bc7fc",
   "metadata": {},
   "outputs": [
    {
     "name": "stdout",
     "output_type": "stream",
     "text": [
      "고유 movieCd 수: 24\n",
      "전체 행 수: 50\n"
     ]
    }
   ],
   "source": [
    "print(\"고유 movieCd 수:\", df[\"movieCd\"].nunique())\n",
    "print(\"전체 행 수:\", len(df))"
   ]
  },
  {
   "cell_type": "code",
   "execution_count": 33,
   "id": "02a160d2-a1d6-4aea-829f-a16163091a37",
   "metadata": {},
   "outputs": [
    {
     "ename": "NameError",
     "evalue": "name 'current_df' is not defined",
     "output_type": "error",
     "traceback": [
      "\u001b[31m---------------------------------------------------------------------------\u001b[39m",
      "\u001b[31mNameError\u001b[39m                                 Traceback (most recent call last)",
      "\u001b[36mCell\u001b[39m\u001b[36m \u001b[39m\u001b[32mIn[33]\u001b[39m\u001b[32m, line 1\u001b[39m\n\u001b[32m----> \u001b[39m\u001b[32m1\u001b[39m \u001b[38;5;28mprint\u001b[39m(\u001b[43mcurrent_df\u001b[49m[\u001b[33m\"\u001b[39m\u001b[33mmovieCd\u001b[39m\u001b[33m\"\u001b[39m].nunique())\n",
      "\u001b[31mNameError\u001b[39m: name 'current_df' is not defined"
     ]
    }
   ],
   "source": []
  },
  {
   "cell_type": "code",
   "execution_count": 35,
   "id": "5459cc8b-5617-44f7-ad5b-759ff67e332e",
   "metadata": {},
   "outputs": [
    {
     "data": {
      "text/html": [
       "<div>\n",
       "<style scoped>\n",
       "    .dataframe tbody tr th:only-of-type {\n",
       "        vertical-align: middle;\n",
       "    }\n",
       "\n",
       "    .dataframe tbody tr th {\n",
       "        vertical-align: top;\n",
       "    }\n",
       "\n",
       "    .dataframe thead th {\n",
       "        text-align: right;\n",
       "    }\n",
       "</style>\n",
       "<table border=\"1\" class=\"dataframe\">\n",
       "  <thead>\n",
       "    <tr style=\"text-align: right;\">\n",
       "      <th></th>\n",
       "      <th>rnum</th>\n",
       "      <th>rank</th>\n",
       "      <th>rankInten</th>\n",
       "      <th>rankOldAndNew</th>\n",
       "      <th>movieCd</th>\n",
       "      <th>movieNm</th>\n",
       "      <th>openDt</th>\n",
       "      <th>salesAmt</th>\n",
       "      <th>salesShare</th>\n",
       "      <th>salesInten</th>\n",
       "      <th>...</th>\n",
       "      <th>salesAcc</th>\n",
       "      <th>audiCnt</th>\n",
       "      <th>audiInten</th>\n",
       "      <th>audiChange</th>\n",
       "      <th>audiAcc</th>\n",
       "      <th>scrnCnt</th>\n",
       "      <th>showCnt</th>\n",
       "      <th>multiMovieYn</th>\n",
       "      <th>repNationCd</th>\n",
       "      <th>dt</th>\n",
       "    </tr>\n",
       "  </thead>\n",
       "  <tbody>\n",
       "    <tr>\n",
       "      <th>38</th>\n",
       "      <td>9</td>\n",
       "      <td>9</td>\n",
       "      <td>2</td>\n",
       "      <td>OLD</td>\n",
       "      <td>20235098</td>\n",
       "      <td>나폴레옹</td>\n",
       "      <td>2023-12-06</td>\n",
       "      <td>3114239</td>\n",
       "      <td>0.6</td>\n",
       "      <td>-942328</td>\n",
       "      <td>...</td>\n",
       "      <td>2249144756</td>\n",
       "      <td>422</td>\n",
       "      <td>-118</td>\n",
       "      <td>-21.9</td>\n",
       "      <td>226334</td>\n",
       "      <td>28</td>\n",
       "      <td>29</td>\n",
       "      <td>NaN</td>\n",
       "      <td>F</td>\n",
       "      <td>20240102</td>\n",
       "    </tr>\n",
       "    <tr>\n",
       "      <th>45</th>\n",
       "      <td>6</td>\n",
       "      <td>6</td>\n",
       "      <td>0</td>\n",
       "      <td>NEW</td>\n",
       "      <td>20227654</td>\n",
       "      <td>수라</td>\n",
       "      <td>2023-06-21</td>\n",
       "      <td>1204000</td>\n",
       "      <td>0.1</td>\n",
       "      <td>1204000</td>\n",
       "      <td>...</td>\n",
       "      <td>516740124</td>\n",
       "      <td>172</td>\n",
       "      <td>172</td>\n",
       "      <td>100.0</td>\n",
       "      <td>61024</td>\n",
       "      <td>1</td>\n",
       "      <td>1</td>\n",
       "      <td>NaN</td>\n",
       "      <td>K</td>\n",
       "      <td>20240102</td>\n",
       "    </tr>\n",
       "    <tr>\n",
       "      <th>48</th>\n",
       "      <td>9</td>\n",
       "      <td>9</td>\n",
       "      <td>3</td>\n",
       "      <td>OLD</td>\n",
       "      <td>20235264</td>\n",
       "      <td>백남준: 달은 가장 오래된 TV</td>\n",
       "      <td>2023-12-06</td>\n",
       "      <td>377000</td>\n",
       "      <td>0.0</td>\n",
       "      <td>261000</td>\n",
       "      <td>...</td>\n",
       "      <td>35477484</td>\n",
       "      <td>49</td>\n",
       "      <td>28</td>\n",
       "      <td>133.3</td>\n",
       "      <td>3927</td>\n",
       "      <td>9</td>\n",
       "      <td>9</td>\n",
       "      <td>NaN</td>\n",
       "      <td>K</td>\n",
       "      <td>20240102</td>\n",
       "    </tr>\n",
       "    <tr>\n",
       "      <th>49</th>\n",
       "      <td>10</td>\n",
       "      <td>10</td>\n",
       "      <td>0</td>\n",
       "      <td>NEW</td>\n",
       "      <td>20234796</td>\n",
       "      <td>비밀</td>\n",
       "      <td>2023-12-13</td>\n",
       "      <td>306000</td>\n",
       "      <td>0.0</td>\n",
       "      <td>306000</td>\n",
       "      <td>...</td>\n",
       "      <td>68575305</td>\n",
       "      <td>46</td>\n",
       "      <td>46</td>\n",
       "      <td>100.0</td>\n",
       "      <td>6767</td>\n",
       "      <td>6</td>\n",
       "      <td>6</td>\n",
       "      <td>NaN</td>\n",
       "      <td>K</td>\n",
       "      <td>20240102</td>\n",
       "    </tr>\n",
       "  </tbody>\n",
       "</table>\n",
       "<p>4 rows × 21 columns</p>\n",
       "</div>"
      ],
      "text/plain": [
       "    rnum  rank  rankInten rankOldAndNew   movieCd            movieNm  \\\n",
       "38     9     9          2           OLD  20235098               나폴레옹   \n",
       "45     6     6          0           NEW  20227654                 수라   \n",
       "48     9     9          3           OLD  20235264  백남준: 달은 가장 오래된 TV   \n",
       "49    10    10          0           NEW  20234796                 비밀   \n",
       "\n",
       "        openDt  salesAmt  salesShare  salesInten  ...    salesAcc audiCnt  \\\n",
       "38  2023-12-06   3114239         0.6     -942328  ...  2249144756     422   \n",
       "45  2023-06-21   1204000         0.1     1204000  ...   516740124     172   \n",
       "48  2023-12-06    377000         0.0      261000  ...    35477484      49   \n",
       "49  2023-12-13    306000         0.0      306000  ...    68575305      46   \n",
       "\n",
       "    audiInten  audiChange  audiAcc  scrnCnt  showCnt  multiMovieYn  \\\n",
       "38       -118       -21.9   226334       28       29           NaN   \n",
       "45        172       100.0    61024        1        1           NaN   \n",
       "48         28       133.3     3927        9        9           NaN   \n",
       "49         46       100.0     6767        6        6           NaN   \n",
       "\n",
       "   repNationCd        dt  \n",
       "38           F  20240102  \n",
       "45           K  20240102  \n",
       "48           K  20240102  \n",
       "49           K  20240102  \n",
       "\n",
       "[4 rows x 21 columns]"
      ]
     },
     "execution_count": 35,
     "metadata": {},
     "output_type": "execute_result"
    }
   ],
   "source": [
    "import pandas as pd\n",
    "meta_path = os.path.expanduser(\"~/data/movie_after/meta/meta.parquet\")\n",
    "meta_df = pd.read_parquet(meta_path)\n",
    "meta_df[meta_df[\"dt\"] == \"20240102\"]"
   ]
  },
  {
   "cell_type": "code",
   "execution_count": 36,
   "id": "15aa05e9-5f2a-4905-b57f-b6aac6a24ad8",
   "metadata": {},
   "outputs": [
    {
     "name": "stdout",
     "output_type": "stream",
     "text": [
      "/home/wsl/data/movies/done/dailyboxoffice/20240102/_DONE\n"
     ]
    }
   ],
   "source": [
    "ls ~/data/movies/done/dailyboxoffice/20240102/_DONE"
   ]
  },
  {
   "cell_type": "code",
   "execution_count": null,
   "id": "5f0f3a4e-2c19-4a91-bda9-250ce3a8ec7e",
   "metadata": {},
   "outputs": [],
   "source": []
  }
 ],
 "metadata": {
  "kernelspec": {
   "display_name": "Python 3 (ipykernel)",
   "language": "python",
   "name": "python3"
  },
  "language_info": {
   "codemirror_mode": {
    "name": "ipython",
    "version": 3
   },
   "file_extension": ".py",
   "mimetype": "text/x-python",
   "name": "python",
   "nbconvert_exporter": "python",
   "pygments_lexer": "ipython3",
   "version": "3.12.3"
  }
 },
 "nbformat": 4,
 "nbformat_minor": 5
}
