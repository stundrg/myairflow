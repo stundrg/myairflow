{
 "cells": [
  {
   "cell_type": "code",
   "execution_count": 19,
   "id": "42a0a85f-3d55-4915-856f-c086970c8c19",
   "metadata": {},
   "outputs": [
    {
     "name": "stdout",
     "output_type": "stream",
     "text": [
      "  movieCd multiMovieYn repNationCd\n",
      "0    1001            Y           K\n",
      "1    1002            Y           F\n",
      "2    1003            N        None\n"
     ]
    }
   ],
   "source": [
    "import pandas as pd\n",
    "\n",
    "\n",
    "A = pd.DataFrame({\n",
    "    \"movieCd\": [\"1001\", \"1002\", \"1003\"],\n",
    "    \"multiMovieYn\": [\"Y\", \"Y\", \"N\"],\n",
    "    \"repNationCd\": [\"K\", \"F\", None]\n",
    "})\n",
    "\n",
    "print(A)"
   ]
  },
  {
   "cell_type": "code",
   "execution_count": 20,
   "id": "8d4c87f6-eb93-41bf-b4c7-8ad14f8556f7",
   "metadata": {},
   "outputs": [
    {
     "name": "stdout",
     "output_type": "stream",
     "text": [
      "  movieCd multiMovieYn repNationCd\n",
      "0    1001         None        None\n",
      "1    1003            Y           F\n",
      "2    1004            Y           K\n"
     ]
    }
   ],
   "source": [
    "B = pd.DataFrame({\n",
    "    \"movieCd\": [\"1001\", \"1003\", \"1004\"],\n",
    "    \"multiMovieYn\": [None, \"Y\", \"Y\"],\n",
    "    \"repNationCd\": [None, \"F\", \"K\"]\n",
    "})\n",
    "print(B)"
   ]
  },
  {
   "cell_type": "code",
   "execution_count": 16,
   "id": "20b3e4a4-4c33-4c42-befe-0437fd53ac72",
   "metadata": {},
   "outputs": [
    {
     "data": {
      "text/html": [
       "<div>\n",
       "<style scoped>\n",
       "    .dataframe tbody tr th:only-of-type {\n",
       "        vertical-align: middle;\n",
       "    }\n",
       "\n",
       "    .dataframe tbody tr th {\n",
       "        vertical-align: top;\n",
       "    }\n",
       "\n",
       "    .dataframe thead th {\n",
       "        text-align: right;\n",
       "    }\n",
       "</style>\n",
       "<table border=\"1\" class=\"dataframe\">\n",
       "  <thead>\n",
       "    <tr style=\"text-align: right;\">\n",
       "      <th></th>\n",
       "      <th>movieCd</th>\n",
       "      <th>multiMovieYn</th>\n",
       "      <th>repNationCd</th>\n",
       "    </tr>\n",
       "  </thead>\n",
       "  <tbody>\n",
       "    <tr>\n",
       "      <th>0</th>\n",
       "      <td>1001</td>\n",
       "      <td>Y</td>\n",
       "      <td>K</td>\n",
       "    </tr>\n",
       "    <tr>\n",
       "      <th>1</th>\n",
       "      <td>1002</td>\n",
       "      <td>Y</td>\n",
       "      <td>F</td>\n",
       "    </tr>\n",
       "    <tr>\n",
       "      <th>2</th>\n",
       "      <td>1003</td>\n",
       "      <td>N</td>\n",
       "      <td>F</td>\n",
       "    </tr>\n",
       "    <tr>\n",
       "      <th>3</th>\n",
       "      <td>1004</td>\n",
       "      <td>Y</td>\n",
       "      <td>K</td>\n",
       "    </tr>\n",
       "  </tbody>\n",
       "</table>\n",
       "</div>"
      ],
      "text/plain": [
       "  movieCd multiMovieYn repNationCd\n",
       "0    1001            Y           K\n",
       "1    1002            Y           F\n",
       "2    1003            N           F\n",
       "3    1004            Y           K"
      ]
     },
     "execution_count": 16,
     "metadata": {},
     "output_type": "execute_result"
    }
   ],
   "source": [
    "A.set_index(\"movieCd\", inplace=True)\n",
    "B.set_index(\"movieCd\", inplace=True)\n",
    "\n",
    "r_df = A.combine_first(B)\n",
    "\n",
    "r_df.reset_index(inplace=True)\n",
    "\n",
    "# 결과 출력\n",
    "r_df"
   ]
  },
  {
   "cell_type": "code",
   "execution_count": 17,
   "id": "4dc8be64-8f4c-400d-89d3-fc71b63886fc",
   "metadata": {},
   "outputs": [
    {
     "name": "stdout",
     "output_type": "stream",
     "text": [
      "        multiMovieYn_A repNationCd_A multiMovieYn_B repNationCd_B\n",
      "movieCd                                                          \n",
      "1001                 Y             K           None          None\n",
      "1002                 Y             F            NaN           NaN\n",
      "1003                 N          None              Y             F\n",
      "1004               NaN           NaN              Y             K\n"
     ]
    }
   ],
   "source": [
    "merged_df = A.merge(B, on=\"movieCd\", how=\"outer\", suffixes=(\"_A\", \"_B\"))\n",
    "print(merged_df)\n",
    "#  movieCd multiMovieYn_A repNationCd_A multiMovieYn_B repNationCd_B\n",
    "# 0    1001              Y             K           None          None\n",
    "# 1    1002              Y             F            NaN           NaN\n",
    "# 2    1003              N          None              Y             F\n",
    "# 3    1004            NaN           NaN              Y             K"
   ]
  },
  {
   "cell_type": "code",
   "execution_count": 23,
   "id": "a7ec91ff-56ef-4850-91dc-baf9d402af42",
   "metadata": {},
   "outputs": [
    {
     "name": "stdout",
     "output_type": "stream",
     "text": [
      "  movieCd multiMovieYn repNationCd\n",
      "0    1001            Y           K\n",
      "1    1002            Y           F\n",
      "2    1003            N           F\n",
      "3    1004            Y           K\n"
     ]
    }
   ],
   "source": [
    "merged_df = A.merge(B, on=\"movieCd\", how=\"outer\", suffixes=(\"_A\", \"_B\"))\n",
    "\n",
    "merged_df[\"multiMovieYn\"] = merged_df[\"multiMovieYn_A\"].fillna(merged_df[\"multiMovieYn_B\"])\n",
    "merged_df[\"repNationCd\"] = merged_df[\"repNationCd_A\"].fillna(merged_df[\"repNationCd_B\"])\n",
    "\n",
    "merged_df = merged_df[[\"movieCd\", \"multiMovieYn\", \"repNationCd\"]]\n",
    "\n",
    "# 결과 출력\n",
    "print(merged_df)"
   ]
  },
  {
   "cell_type": "code",
   "execution_count": null,
   "id": "f1ac9d28-d75e-476a-afb7-3e051d6bab3f",
   "metadata": {},
   "outputs": [],
   "source": []
  }
 ],
 "metadata": {
  "kernelspec": {
   "display_name": "Python 3 (ipykernel)",
   "language": "python",
   "name": "python3"
  },
  "language_info": {
   "codemirror_mode": {
    "name": "ipython",
    "version": 3
   },
   "file_extension": ".py",
   "mimetype": "text/x-python",
   "name": "python",
   "nbconvert_exporter": "python",
   "pygments_lexer": "ipython3",
   "version": "3.12.3"
  }
 },
 "nbformat": 4,
 "nbformat_minor": 5
}
